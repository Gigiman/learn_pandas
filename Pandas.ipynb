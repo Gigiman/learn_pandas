{
 "cells": [
  {
   "cell_type": "markdown",
   "metadata": {},
   "source": [
    "Тетрадка предназначена для студентов образвательного проекта Booster MDS использование вне проекта запрещено."
   ]
  },
  {
   "cell_type": "markdown",
   "metadata": {},
   "source": [
    "##### Задания не несут смысловой нагрузки для реальной жизни, они сделаны лишь для того, чтоб научить использовать Pandas"
   ]
  },
  {
   "cell_type": "markdown",
   "metadata": {},
   "source": [
    "#### Каждое задание оценивает в 1 балл, для успешной сдачи задания нужно набрать 12 баллов"
   ]
  },
  {
   "cell_type": "markdown",
   "metadata": {},
   "source": [
    "This database contains 76 attributes, but all published experiments refer to using a subset of 14 of them. In particular, the Cleveland database is the only one that has been used by ML researchers to this date. The \"goal\" field refers to the presence of heart disease in the patient. It is integer valued from 0 (no presence) to 1."
   ]
  },
  {
   "cell_type": "markdown",
   "metadata": {},
   "source": [
    "https://www.kaggle.com/ronitf/heart-disease-uci"
   ]
  },
  {
   "cell_type": "markdown",
   "metadata": {},
   "source": [
    "___"
   ]
  },
  {
   "cell_type": "code",
   "execution_count": 9,
   "metadata": {},
   "outputs": [],
   "source": [
    "import pandas as pd\n",
    "import numpy as np"
   ]
  },
  {
   "cell_type": "code",
   "execution_count": 162,
   "metadata": {},
   "outputs": [],
   "source": [
    "data = pd.read_csv('heart_pandas.csv')"
   ]
  },
  {
   "cell_type": "code",
   "execution_count": 161,
   "metadata": {},
   "outputs": [
    {
     "data": {
      "text/html": [
       "<div>\n",
       "<style scoped>\n",
       "    .dataframe tbody tr th:only-of-type {\n",
       "        vertical-align: middle;\n",
       "    }\n",
       "\n",
       "    .dataframe tbody tr th {\n",
       "        vertical-align: top;\n",
       "    }\n",
       "\n",
       "    .dataframe thead th {\n",
       "        text-align: right;\n",
       "    }\n",
       "</style>\n",
       "<table border=\"1\" class=\"dataframe\">\n",
       "  <thead>\n",
       "    <tr style=\"text-align: right;\">\n",
       "      <th></th>\n",
       "      <th>age</th>\n",
       "      <th>sex</th>\n",
       "      <th>chest_pain_type</th>\n",
       "      <th>resting_blood_pressure</th>\n",
       "      <th>cholesterol</th>\n",
       "      <th>fasting_blood_sugar</th>\n",
       "      <th>rest_ecg</th>\n",
       "      <th>max_heart_rate_achieved</th>\n",
       "      <th>exercise_induced_angina</th>\n",
       "      <th>st_depression</th>\n",
       "      <th>st_slope</th>\n",
       "      <th>num_major_vessels</th>\n",
       "      <th>thalassemia</th>\n",
       "      <th>target</th>\n",
       "    </tr>\n",
       "  </thead>\n",
       "  <tbody>\n",
       "    <tr>\n",
       "      <th>0</th>\n",
       "      <td>63</td>\n",
       "      <td>male</td>\n",
       "      <td>non-anginal pain</td>\n",
       "      <td>145</td>\n",
       "      <td>233</td>\n",
       "      <td>greater than 120mg/ml</td>\n",
       "      <td>normal</td>\n",
       "      <td>150</td>\n",
       "      <td>no</td>\n",
       "      <td>2.3</td>\n",
       "      <td>upsloping</td>\n",
       "      <td>0</td>\n",
       "      <td>normal</td>\n",
       "      <td>1</td>\n",
       "    </tr>\n",
       "    <tr>\n",
       "      <th>1</th>\n",
       "      <td>37</td>\n",
       "      <td>male</td>\n",
       "      <td>atypical angina</td>\n",
       "      <td>130</td>\n",
       "      <td>250</td>\n",
       "      <td>lower than 120mg/ml</td>\n",
       "      <td>ST-T wave abnormality</td>\n",
       "      <td>187</td>\n",
       "      <td>no</td>\n",
       "      <td>3.5</td>\n",
       "      <td>upsloping</td>\n",
       "      <td>0</td>\n",
       "      <td>fixed defect</td>\n",
       "      <td>1</td>\n",
       "    </tr>\n",
       "    <tr>\n",
       "      <th>2</th>\n",
       "      <td>41</td>\n",
       "      <td>female</td>\n",
       "      <td>typical angina</td>\n",
       "      <td>130</td>\n",
       "      <td>204</td>\n",
       "      <td>lower than 120mg/ml</td>\n",
       "      <td>normal</td>\n",
       "      <td>172</td>\n",
       "      <td>no</td>\n",
       "      <td>1.4</td>\n",
       "      <td>flat</td>\n",
       "      <td>0</td>\n",
       "      <td>fixed defect</td>\n",
       "      <td>1</td>\n",
       "    </tr>\n",
       "    <tr>\n",
       "      <th>3</th>\n",
       "      <td>56</td>\n",
       "      <td>male</td>\n",
       "      <td>typical angina</td>\n",
       "      <td>120</td>\n",
       "      <td>236</td>\n",
       "      <td>lower than 120mg/ml</td>\n",
       "      <td>ST-T wave abnormality</td>\n",
       "      <td>178</td>\n",
       "      <td>no</td>\n",
       "      <td>0.8</td>\n",
       "      <td>flat</td>\n",
       "      <td>0</td>\n",
       "      <td>fixed defect</td>\n",
       "      <td>1</td>\n",
       "    </tr>\n",
       "    <tr>\n",
       "      <th>4</th>\n",
       "      <td>57</td>\n",
       "      <td>female</td>\n",
       "      <td>typical angina</td>\n",
       "      <td>120</td>\n",
       "      <td>354</td>\n",
       "      <td>lower than 120mg/ml</td>\n",
       "      <td>ST-T wave abnormality</td>\n",
       "      <td>163</td>\n",
       "      <td>yes</td>\n",
       "      <td>0.6</td>\n",
       "      <td>flat</td>\n",
       "      <td>0</td>\n",
       "      <td>fixed defect</td>\n",
       "      <td>1</td>\n",
       "    </tr>\n",
       "  </tbody>\n",
       "</table>\n",
       "</div>"
      ],
      "text/plain": [
       "   age     sex   chest_pain_type  resting_blood_pressure  cholesterol  \\\n",
       "0   63    male  non-anginal pain                     145          233   \n",
       "1   37    male   atypical angina                     130          250   \n",
       "2   41  female    typical angina                     130          204   \n",
       "3   56    male    typical angina                     120          236   \n",
       "4   57  female    typical angina                     120          354   \n",
       "\n",
       "     fasting_blood_sugar               rest_ecg  max_heart_rate_achieved  \\\n",
       "0  greater than 120mg/ml                 normal                      150   \n",
       "1    lower than 120mg/ml  ST-T wave abnormality                      187   \n",
       "2    lower than 120mg/ml                 normal                      172   \n",
       "3    lower than 120mg/ml  ST-T wave abnormality                      178   \n",
       "4    lower than 120mg/ml  ST-T wave abnormality                      163   \n",
       "\n",
       "  exercise_induced_angina  st_depression   st_slope  num_major_vessels  \\\n",
       "0                      no            2.3  upsloping                  0   \n",
       "1                      no            3.5  upsloping                  0   \n",
       "2                      no            1.4       flat                  0   \n",
       "3                      no            0.8       flat                  0   \n",
       "4                     yes            0.6       flat                  0   \n",
       "\n",
       "    thalassemia  target  \n",
       "0        normal       1  \n",
       "1  fixed defect       1  \n",
       "2  fixed defect       1  \n",
       "3  fixed defect       1  \n",
       "4  fixed defect       1  "
      ]
     },
     "execution_count": 161,
     "metadata": {},
     "output_type": "execute_result"
    }
   ],
   "source": [
    "data.head(5)"
   ]
  },
  {
   "cell_type": "markdown",
   "metadata": {},
   "source": [
    "#### Описание признаков"
   ]
  },
  {
   "cell_type": "markdown",
   "metadata": {},
   "source": [
    "**age**: The person's age in years\n",
    "\n",
    "**sex**: The person's sex (1 = male, 0 = female)\n",
    "\n",
    "**cp**: The chest pain experienced (Value 1: typical angina, Value 2: atypical angina, Value 3: non-anginal pain, Value 4: asymptomatic)\n",
    "\n",
    "**trestbps**: The person's resting blood pressure (mm Hg on admission to the hospital)\n",
    "\n",
    "**chol**: The person's cholesterol measurement in mg/dl\n",
    "\n",
    "**fbs**: The person's fasting blood sugar (> 120 mg/dl, 1 = true; 0 = false)\n",
    "\n",
    "**restecg**: Resting electrocardiographic measurement (0 = normal, 1 = having ST-T wave abnormality, 2 = showing probable or definite left ventricular hypertrophy by Estes' criteria)\n",
    "\n",
    "**thalach**: The person's maximum heart rate achieved\n",
    "\n",
    "**exang**: Exercise induced angina (1 = yes; 0 = no)\n",
    "\n",
    "**oldpeak**: ST depression induced by exercise relative to rest ('ST' relates to positions on the ECG plot. See more here)\n",
    "\n",
    "**slope**: the slope of the peak exercise ST segment (Value 1: upsloping, Value 2: flat, Value 3: downsloping)\n",
    "\n",
    "**ca**: The number of major vessels (0-3)\n",
    "\n",
    "**thal**: A blood disorder called thalassemia (3 = normal; 6 = fixed defect; 7 = reversable defect)\n",
    "\n",
    "**target**: Heart disease (0 = no, 1 = yes)"
   ]
  },
  {
   "cell_type": "markdown",
   "metadata": {},
   "source": [
    "> 1. age \n",
    "> 2. sex \n",
    "> 3. chest pain type (4 values) \n",
    "> 4. resting blood pressure \n",
    "> 5. serum cholestoral in mg/dl \n",
    "> 6. fasting blood sugar > 120 mg/dl\n",
    "> 7. resting electrocardiographic results (values 0,1,2)\n",
    "> 8. maximum heart rate achieved \n",
    "> 9. exercise induced angina \n",
    "> 10. oldpeak = ST depression induced by exercise relative to rest \n",
    "> 11. the slope of the peak exercise ST segment \n",
    "> 12. number of major vessels (0-3) colored by flourosopy \n",
    "> 13. thal: 3 = normal; 6 = fixed defect; 7 = reversable defect"
   ]
  },
  {
   "cell_type": "markdown",
   "metadata": {},
   "source": [
    "___"
   ]
  },
  {
   "cell_type": "markdown",
   "metadata": {},
   "source": [
    "**Сколько мужчин в датасете? Сколько женщен? (sex) **"
   ]
  },
  {
   "cell_type": "code",
   "execution_count": 207,
   "metadata": {},
   "outputs": [
    {
     "name": "stdout",
     "output_type": "stream",
     "text": [
      "male      207\n",
      "female     96\n",
      "Name: sex, dtype: int64\n"
     ]
    }
   ],
   "source": [
    "## Ваш код\n",
    "genders = data['sex'].value_counts()"
   ]
  },
  {
   "cell_type": "code",
   "execution_count": 27,
   "metadata": {},
   "outputs": [],
   "source": [
    "## Ваш ответ:\n",
    "# male      207\n",
    "# female     96"
   ]
  },
  {
   "cell_type": "markdown",
   "metadata": {},
   "source": [
    " **Какой процент мужчин в датасете? (решите в одну строчку, не используя предыдущий результат. Не забудте знак процента) **"
   ]
  },
  {
   "cell_type": "code",
   "execution_count": 138,
   "metadata": {},
   "outputs": [],
   "source": [
    "## Ваш код\n",
    "maleRatio = \"{:.0%}\".format(data['sex'].value_counts(normalize=True)[0])"
   ]
  },
  {
   "cell_type": "code",
   "execution_count": 23,
   "metadata": {},
   "outputs": [],
   "source": [
    "## Ваш ответ: 68%"
   ]
  },
  {
   "cell_type": "markdown",
   "metadata": {},
   "source": [
    "**Сколько мужчин имеют заболевание сердца? Сколько женщин имеют заболевание сердца? **"
   ]
  },
  {
   "cell_type": "code",
   "execution_count": 208,
   "metadata": {},
   "outputs": [],
   "source": [
    "## Ваш код\n",
    "# print(data.groupby(['sex']))\n",
    "heartDiseasesM = data[(data['sex'] == 'male') & (data['target'] == 1)].count()\n",
    "heartDiseasesF = data[(data['sex'] == 'female') & (data['target'] == 1)].count()"
   ]
  },
  {
   "cell_type": "code",
   "execution_count": 94,
   "metadata": {},
   "outputs": [],
   "source": [
    "## Ваш ответ: male: 93; female: 72;"
   ]
  },
  {
   "cell_type": "markdown",
   "metadata": {},
   "source": [
    "**Какую долю, от общего числа пациентов, занимают мужчины не имеющие болезнь сердца?**"
   ]
  },
  {
   "cell_type": "code",
   "execution_count": 117,
   "metadata": {},
   "outputs": [],
   "source": [
    "## Ваш код\n",
    "healthyMaleRatio = data[(data['sex'] == 'male') & (data['target'] == 0)].count()\n",
    "print(healthyMaleRatio / data.count()[0])"
   ]
  },
  {
   "cell_type": "code",
   "execution_count": 89,
   "metadata": {},
   "outputs": [],
   "source": [
    "## Ваш ответ: 0.376238"
   ]
  },
  {
   "cell_type": "markdown",
   "metadata": {},
   "source": [
    "**Сколько лет самому молодому пациенту, страдающему болезнью сердца?**"
   ]
  },
  {
   "cell_type": "code",
   "execution_count": 214,
   "metadata": {},
   "outputs": [
    {
     "name": "stdout",
     "output_type": "stream",
     "text": [
      "29\n"
     ]
    }
   ],
   "source": [
    "## Ваш код\n",
    "youngHDClient = data[data['target'] == 1]['age'].min()\n",
    "print(youngHDClient)"
   ]
  },
  {
   "cell_type": "code",
   "execution_count": 215,
   "metadata": {},
   "outputs": [],
   "source": [
    "## Ваш ответ: 29"
   ]
  },
  {
   "cell_type": "markdown",
   "metadata": {},
   "source": [
    "**Сколько лет самому возастному пациенту, у которого нет проблем с сердцем?**"
   ]
  },
  {
   "cell_type": "code",
   "execution_count": 216,
   "metadata": {},
   "outputs": [],
   "source": [
    "## Ваш код\n",
    "oldHealthyClient = data[data['target'] == 0]['age'].max()"
   ]
  },
  {
   "cell_type": "code",
   "execution_count": 217,
   "metadata": {},
   "outputs": [],
   "source": [
    "## Ваш ответ: 77"
   ]
  },
  {
   "cell_type": "markdown",
   "metadata": {},
   "source": [
    "**Сколько лет самой молодой женщине, которая страдает болезнью сердца?**"
   ]
  },
  {
   "cell_type": "code",
   "execution_count": 212,
   "metadata": {},
   "outputs": [],
   "source": [
    "## Ваш код\n",
    "youngHDFemale = data[(data['target'] == 1) & (data['sex'] == 'female')]['age'].min()"
   ]
  },
  {
   "cell_type": "code",
   "execution_count": 22,
   "metadata": {},
   "outputs": [],
   "source": [
    "## Ваш ответ: 34"
   ]
  },
  {
   "cell_type": "markdown",
   "metadata": {},
   "source": [
    "**Какой средний возраст женщин?**"
   ]
  },
  {
   "cell_type": "code",
   "execution_count": 209,
   "metadata": {},
   "outputs": [],
   "source": [
    "## Ваш код\n",
    "femaleMean = data[data['sex'] == 'female']['age'].mean()"
   ]
  },
  {
   "cell_type": "code",
   "execution_count": 24,
   "metadata": {},
   "outputs": [],
   "source": [
    "## Ваш ответ: 55.677"
   ]
  },
  {
   "cell_type": "markdown",
   "metadata": {},
   "source": [
    "**Каковы средние значения и среднеквадратичные отклонения возраста тех, кто страдают болезнью сердца?**"
   ]
  },
  {
   "cell_type": "code",
   "execution_count": 149,
   "metadata": {},
   "outputs": [],
   "source": [
    "## Ваш код\n",
    "hdMean = data[data['target'] == 1]['age'].mean()\n",
    "hdStd = data[data['target'] == 1]['age'].std()"
   ]
  },
  {
   "cell_type": "code",
   "execution_count": 25,
   "metadata": {},
   "outputs": [],
   "source": [
    "## Ваш ответ: mean = 52.5; std = 9.55;"
   ]
  },
  {
   "cell_type": "markdown",
   "metadata": {},
   "source": [
    "** Правда ли, что люди не болеющие болезнью сердца имеют уровня холестерина меньше среднего? (chol) **"
   ]
  },
  {
   "cell_type": "code",
   "execution_count": 155,
   "metadata": {},
   "outputs": [],
   "source": [
    "## Ваш код\n",
    "healthyChol = data[data['target'] == 0]['cholesterol'].mean()\n",
    "avChol = data['cholesterol'].mean()\n",
    "\n",
    "if healthyChol < avChol:\n",
    "    print(True)\n",
    "else:\n",
    "    print(False)"
   ]
  },
  {
   "cell_type": "code",
   "execution_count": 27,
   "metadata": {},
   "outputs": [],
   "source": [
    "## Ваш ответ: Неправда"
   ]
  },
  {
   "cell_type": "markdown",
   "metadata": {},
   "source": [
    "**Выведите статистику rest_ecg для все числовых признаков, его максимально и среднее значение (используйте groupby(), решите в одну строчку)**"
   ]
  },
  {
   "cell_type": "code",
   "execution_count": 174,
   "metadata": {},
   "outputs": [
    {
     "data": {
      "text/html": [
       "<div>\n",
       "<style scoped>\n",
       "    .dataframe tbody tr th:only-of-type {\n",
       "        vertical-align: middle;\n",
       "    }\n",
       "\n",
       "    .dataframe tbody tr th {\n",
       "        vertical-align: top;\n",
       "    }\n",
       "\n",
       "    .dataframe thead tr th {\n",
       "        text-align: left;\n",
       "    }\n",
       "\n",
       "    .dataframe thead tr:last-of-type th {\n",
       "        text-align: right;\n",
       "    }\n",
       "</style>\n",
       "<table border=\"1\" class=\"dataframe\">\n",
       "  <thead>\n",
       "    <tr>\n",
       "      <th></th>\n",
       "      <th colspan=\"2\" halign=\"left\">age</th>\n",
       "      <th colspan=\"2\" halign=\"left\">resting_blood_pressure</th>\n",
       "      <th colspan=\"2\" halign=\"left\">cholesterol</th>\n",
       "      <th colspan=\"2\" halign=\"left\">max_heart_rate_achieved</th>\n",
       "      <th colspan=\"2\" halign=\"left\">st_depression</th>\n",
       "      <th colspan=\"2\" halign=\"left\">num_major_vessels</th>\n",
       "      <th colspan=\"2\" halign=\"left\">target</th>\n",
       "    </tr>\n",
       "    <tr>\n",
       "      <th></th>\n",
       "      <th>amax</th>\n",
       "      <th>mean</th>\n",
       "      <th>amax</th>\n",
       "      <th>mean</th>\n",
       "      <th>amax</th>\n",
       "      <th>mean</th>\n",
       "      <th>amax</th>\n",
       "      <th>mean</th>\n",
       "      <th>amax</th>\n",
       "      <th>mean</th>\n",
       "      <th>amax</th>\n",
       "      <th>mean</th>\n",
       "      <th>amax</th>\n",
       "      <th>mean</th>\n",
       "    </tr>\n",
       "    <tr>\n",
       "      <th>rest_ecg</th>\n",
       "      <th></th>\n",
       "      <th></th>\n",
       "      <th></th>\n",
       "      <th></th>\n",
       "      <th></th>\n",
       "      <th></th>\n",
       "      <th></th>\n",
       "      <th></th>\n",
       "      <th></th>\n",
       "      <th></th>\n",
       "      <th></th>\n",
       "      <th></th>\n",
       "      <th></th>\n",
       "      <th></th>\n",
       "    </tr>\n",
       "  </thead>\n",
       "  <tbody>\n",
       "    <tr>\n",
       "      <th>ST-T wave abnormality</th>\n",
       "      <td>71</td>\n",
       "      <td>52.914474</td>\n",
       "      <td>180</td>\n",
       "      <td>129.065789</td>\n",
       "      <td>354</td>\n",
       "      <td>237.269737</td>\n",
       "      <td>194</td>\n",
       "      <td>151.960526</td>\n",
       "      <td>5.6</td>\n",
       "      <td>0.879605</td>\n",
       "      <td>4</td>\n",
       "      <td>0.638158</td>\n",
       "      <td>1</td>\n",
       "      <td>0.631579</td>\n",
       "    </tr>\n",
       "    <tr>\n",
       "      <th>left ventricular hypertrophy</th>\n",
       "      <td>76</td>\n",
       "      <td>61.000000</td>\n",
       "      <td>180</td>\n",
       "      <td>140.500000</td>\n",
       "      <td>327</td>\n",
       "      <td>261.750000</td>\n",
       "      <td>140</td>\n",
       "      <td>125.750000</td>\n",
       "      <td>4.4</td>\n",
       "      <td>2.725000</td>\n",
       "      <td>3</td>\n",
       "      <td>1.000000</td>\n",
       "      <td>1</td>\n",
       "      <td>0.250000</td>\n",
       "    </tr>\n",
       "    <tr>\n",
       "      <th>normal</th>\n",
       "      <td>77</td>\n",
       "      <td>55.687075</td>\n",
       "      <td>200</td>\n",
       "      <td>134.027211</td>\n",
       "      <td>564</td>\n",
       "      <td>255.142857</td>\n",
       "      <td>202</td>\n",
       "      <td>147.904762</td>\n",
       "      <td>6.2</td>\n",
       "      <td>1.159184</td>\n",
       "      <td>4</td>\n",
       "      <td>0.816327</td>\n",
       "      <td>1</td>\n",
       "      <td>0.462585</td>\n",
       "    </tr>\n",
       "  </tbody>\n",
       "</table>\n",
       "</div>"
      ],
      "text/plain": [
       "                              age            resting_blood_pressure  \\\n",
       "                             amax       mean                   amax   \n",
       "rest_ecg                                                              \n",
       "ST-T wave abnormality          71  52.914474                    180   \n",
       "left ventricular hypertrophy   76  61.000000                    180   \n",
       "normal                         77  55.687075                    200   \n",
       "\n",
       "                                         cholesterol              \\\n",
       "                                    mean        amax        mean   \n",
       "rest_ecg                                                           \n",
       "ST-T wave abnormality         129.065789         354  237.269737   \n",
       "left ventricular hypertrophy  140.500000         327  261.750000   \n",
       "normal                        134.027211         564  255.142857   \n",
       "\n",
       "                             max_heart_rate_achieved              \\\n",
       "                                                amax        mean   \n",
       "rest_ecg                                                           \n",
       "ST-T wave abnormality                            194  151.960526   \n",
       "left ventricular hypertrophy                     140  125.750000   \n",
       "normal                                           202  147.904762   \n",
       "\n",
       "                             st_depression           num_major_vessels  \\\n",
       "                                      amax      mean              amax   \n",
       "rest_ecg                                                                 \n",
       "ST-T wave abnormality                  5.6  0.879605                 4   \n",
       "left ventricular hypertrophy           4.4  2.725000                 3   \n",
       "normal                                 6.2  1.159184                 4   \n",
       "\n",
       "                                       target            \n",
       "                                  mean   amax      mean  \n",
       "rest_ecg                                                 \n",
       "ST-T wave abnormality         0.638158      1  0.631579  \n",
       "left ventricular hypertrophy  1.000000      1  0.250000  \n",
       "normal                        0.816327      1  0.462585  "
      ]
     },
     "execution_count": 174,
     "metadata": {},
     "output_type": "execute_result"
    }
   ],
   "source": [
    "## Ваш код\n",
    "data.groupby(['rest_ecg'])[data.select_dtypes(include=[np.number]).columns.tolist()].agg([np.max, np.mean])"
   ]
  },
  {
   "cell_type": "code",
   "execution_count": 35,
   "metadata": {},
   "outputs": [],
   "source": [
    "## Ваш ответ:"
   ]
  },
  {
   "cell_type": "markdown",
   "metadata": {},
   "source": [
    "**Посчитайте у кого уровень депрессии при физический нагрузке выше (в среднем), среди мужчин страдающих болезнью сердца или среди женщин не страдающих болезнью сердца (st_depression)**"
   ]
  },
  {
   "cell_type": "code",
   "execution_count": 167,
   "metadata": {},
   "outputs": [],
   "source": [
    "## Ваш код\n",
    "maleDepr = data[(data['sex'] == 'male') & (data['target'] == 1)]['st_depression'].mean()\n",
    "femaleDepr = data[(data['sex'] == 'female') & (data['target'] == 0)]['st_depression'].mean()\n",
    "\n",
    "if maleDepr > femaleDepr:\n",
    "    print('Уровень депресси при физ нагрузке выше у больных мужчин')\n",
    "else:\n",
    "    print('Уровень депресси при физ нагрузке выше у здоровых женщин')\n"
   ]
  },
  {
   "cell_type": "code",
   "execution_count": 37,
   "metadata": {},
   "outputs": [],
   "source": [
    "## Ваш ответ: Уровень депресси при физ нагрузке выше у здоровых женщин"
   ]
  },
  {
   "cell_type": "markdown",
   "metadata": {},
   "source": [
    "**Посчтитайте максимальный и минимальный уровень холестерина для каждого типа chest_pain_type, rest_ecg, thalassemia. Пишите код оптимально, можно использовать циклы**"
   ]
  },
  {
   "cell_type": "code",
   "execution_count": 184,
   "metadata": {},
   "outputs": [
    {
     "data": {
      "text/html": [
       "<div>\n",
       "<style scoped>\n",
       "    .dataframe tbody tr th:only-of-type {\n",
       "        vertical-align: middle;\n",
       "    }\n",
       "\n",
       "    .dataframe tbody tr th {\n",
       "        vertical-align: top;\n",
       "    }\n",
       "\n",
       "    .dataframe thead th {\n",
       "        text-align: right;\n",
       "    }\n",
       "</style>\n",
       "<table border=\"1\" class=\"dataframe\">\n",
       "  <thead>\n",
       "    <tr style=\"text-align: right;\">\n",
       "      <th></th>\n",
       "      <th></th>\n",
       "      <th></th>\n",
       "      <th>amax</th>\n",
       "      <th>amin</th>\n",
       "    </tr>\n",
       "    <tr>\n",
       "      <th>chest_pain_type</th>\n",
       "      <th>rest_ecg</th>\n",
       "      <th>thalassemia</th>\n",
       "      <th></th>\n",
       "      <th></th>\n",
       "    </tr>\n",
       "  </thead>\n",
       "  <tbody>\n",
       "    <tr>\n",
       "      <th rowspan=\"7\" valign=\"top\">atypical angina</th>\n",
       "      <th rowspan=\"3\" valign=\"top\">ST-T wave abnormality</th>\n",
       "      <th>fixed defect</th>\n",
       "      <td>340</td>\n",
       "      <td>141</td>\n",
       "    </tr>\n",
       "    <tr>\n",
       "      <th>normal</th>\n",
       "      <td>218</td>\n",
       "      <td>218</td>\n",
       "    </tr>\n",
       "    <tr>\n",
       "      <th>reversable defect</th>\n",
       "      <td>313</td>\n",
       "      <td>126</td>\n",
       "    </tr>\n",
       "    <tr>\n",
       "      <th>left ventricular hypertrophy</th>\n",
       "      <th>fixed defect</th>\n",
       "      <td>197</td>\n",
       "      <td>197</td>\n",
       "    </tr>\n",
       "    <tr>\n",
       "      <th rowspan=\"3\" valign=\"top\">normal</th>\n",
       "      <th>fixed defect</th>\n",
       "      <td>417</td>\n",
       "      <td>149</td>\n",
       "    </tr>\n",
       "    <tr>\n",
       "      <th>normal</th>\n",
       "      <td>256</td>\n",
       "      <td>216</td>\n",
       "    </tr>\n",
       "    <tr>\n",
       "      <th>reversable defect</th>\n",
       "      <td>564</td>\n",
       "      <td>212</td>\n",
       "    </tr>\n",
       "    <tr>\n",
       "      <th rowspan=\"5\" valign=\"top\">non-anginal pain</th>\n",
       "      <th rowspan=\"2\" valign=\"top\">ST-T wave abnormality</th>\n",
       "      <th>fixed defect</th>\n",
       "      <td>240</td>\n",
       "      <td>204</td>\n",
       "    </tr>\n",
       "    <tr>\n",
       "      <th>reversable defect</th>\n",
       "      <td>298</td>\n",
       "      <td>199</td>\n",
       "    </tr>\n",
       "    <tr>\n",
       "      <th rowspan=\"3\" valign=\"top\">normal</th>\n",
       "      <th>fixed defect</th>\n",
       "      <td>283</td>\n",
       "      <td>182</td>\n",
       "    </tr>\n",
       "    <tr>\n",
       "      <th>normal</th>\n",
       "      <td>233</td>\n",
       "      <td>186</td>\n",
       "    </tr>\n",
       "    <tr>\n",
       "      <th>reversable defect</th>\n",
       "      <td>288</td>\n",
       "      <td>193</td>\n",
       "    </tr>\n",
       "    <tr>\n",
       "      <th rowspan=\"9\" valign=\"top\">typical angina</th>\n",
       "      <th rowspan=\"3\" valign=\"top\">ST-T wave abnormality</th>\n",
       "      <th>fixed defect</th>\n",
       "      <td>354</td>\n",
       "      <td>149</td>\n",
       "    </tr>\n",
       "    <tr>\n",
       "      <th>normal</th>\n",
       "      <td>315</td>\n",
       "      <td>169</td>\n",
       "    </tr>\n",
       "    <tr>\n",
       "      <th>reversable defect</th>\n",
       "      <td>353</td>\n",
       "      <td>131</td>\n",
       "    </tr>\n",
       "    <tr>\n",
       "      <th rowspan=\"3\" valign=\"top\">left ventricular hypertrophy</th>\n",
       "      <th>fixed defect</th>\n",
       "      <td>327</td>\n",
       "      <td>327</td>\n",
       "    </tr>\n",
       "    <tr>\n",
       "      <th>normal</th>\n",
       "      <td>318</td>\n",
       "      <td>318</td>\n",
       "    </tr>\n",
       "    <tr>\n",
       "      <th>reversable defect</th>\n",
       "      <td>205</td>\n",
       "      <td>205</td>\n",
       "    </tr>\n",
       "    <tr>\n",
       "      <th rowspan=\"3\" valign=\"top\">normal</th>\n",
       "      <th>fixed defect</th>\n",
       "      <td>394</td>\n",
       "      <td>166</td>\n",
       "    </tr>\n",
       "    <tr>\n",
       "      <th>normal</th>\n",
       "      <td>276</td>\n",
       "      <td>176</td>\n",
       "    </tr>\n",
       "    <tr>\n",
       "      <th>reversable defect</th>\n",
       "      <td>409</td>\n",
       "      <td>164</td>\n",
       "    </tr>\n",
       "  </tbody>\n",
       "</table>\n",
       "</div>"
      ],
      "text/plain": [
       "                                                                 amax  amin\n",
       "chest_pain_type  rest_ecg                     thalassemia                  \n",
       "atypical angina  ST-T wave abnormality        fixed defect        340   141\n",
       "                                              normal              218   218\n",
       "                                              reversable defect   313   126\n",
       "                 left ventricular hypertrophy fixed defect        197   197\n",
       "                 normal                       fixed defect        417   149\n",
       "                                              normal              256   216\n",
       "                                              reversable defect   564   212\n",
       "non-anginal pain ST-T wave abnormality        fixed defect        240   204\n",
       "                                              reversable defect   298   199\n",
       "                 normal                       fixed defect        283   182\n",
       "                                              normal              233   186\n",
       "                                              reversable defect   288   193\n",
       "typical angina   ST-T wave abnormality        fixed defect        354   149\n",
       "                                              normal              315   169\n",
       "                                              reversable defect   353   131\n",
       "                 left ventricular hypertrophy fixed defect        327   327\n",
       "                                              normal              318   318\n",
       "                                              reversable defect   205   205\n",
       "                 normal                       fixed defect        394   166\n",
       "                                              normal              276   176\n",
       "                                              reversable defect   409   164"
      ]
     },
     "execution_count": 184,
     "metadata": {},
     "output_type": "execute_result"
    }
   ],
   "source": [
    "## Ваш код\n",
    "data.groupby(['chest_pain_type', 'rest_ecg', 'thalassemia'])['cholesterol'].agg([np.max, np.min])"
   ]
  },
  {
   "cell_type": "code",
   "execution_count": null,
   "metadata": {},
   "outputs": [],
   "source": [
    "## Ваш ответ:"
   ]
  },
  {
   "cell_type": "markdown",
   "metadata": {},
   "source": [
    "**Сколько значений может принимать каждый из категориальных признаков?**"
   ]
  },
  {
   "cell_type": "code",
   "execution_count": 240,
   "metadata": {},
   "outputs": [
    {
     "name": "stdout",
     "output_type": "stream",
     "text": [
      "sex 2\n",
      "chest_pain_type 3\n",
      "fasting_blood_sugar 2\n",
      "rest_ecg 3\n",
      "exercise_induced_angina 2\n",
      "st_slope 2\n",
      "thalassemia 3\n",
      "target 2\n"
     ]
    }
   ],
   "source": [
    "## Ваш код\n",
    "data = data.replace({'target': {1: 'Sick', 0: 'Healthy'}})\n",
    "categorical_columns = [c for c in data.columns if data[c].dtype.name == 'object']\n",
    "\n",
    "for c in categorical_columns:\n",
    "    print(c + ' ' + str(data[c].nunique()))"
   ]
  },
  {
   "cell_type": "code",
   "execution_count": 205,
   "metadata": {},
   "outputs": [],
   "source": [
    "## Ваш ответ:\n",
    "# sex 2\n",
    "# chest_pain_type 3\n",
    "# fasting_blood_sugar 2\n",
    "# rest_ecg 3\n",
    "# exercise_induced_angina 2\n",
    "# st_slope 2\n",
    "# thalassemia 3\n",
    "# target 2"
   ]
  },
  {
   "cell_type": "markdown",
   "metadata": {},
   "source": [
    "**У какого категориального признака наблюдается самый сильный дизбаланс классов?**"
   ]
  },
  {
   "cell_type": "code",
   "execution_count": 238,
   "metadata": {},
   "outputs": [
    {
     "name": "stdout",
     "output_type": "stream",
     "text": [
      "('rest_ecg', 0.02631578947368421)\n"
     ]
    }
   ],
   "source": [
    "## Ваш код\n",
    "categorical_columns = [c for c in data.columns if data[c].dtype.name == 'object']\n",
    "\n",
    "d = {}\n",
    "\n",
    "for c in categorical_columns:\n",
    "    maxNum = data[c].value_counts().max()\n",
    "    minNum = data[c].value_counts().min()\n",
    "    \n",
    "    d.update({c: (minNum / maxNum)})\n",
    "    \n",
    "print(sorted(d.items(), key=lambda x: x[1])[0])"
   ]
  },
  {
   "cell_type": "code",
   "execution_count": 226,
   "metadata": {},
   "outputs": [],
   "source": [
    "## Ваш ответ: 'rest_ecg'"
   ]
  },
  {
   "cell_type": "markdown",
   "metadata": {},
   "source": [
    "---"
   ]
  },
  {
   "cell_type": "markdown",
   "metadata": {},
   "source": [
    "@Booster\n",
    "Мамкин Data Scientist\n",
    "\n",
    "tg @mommyscience"
   ]
  }
 ],
 "metadata": {
  "kernelspec": {
   "display_name": "Python 3",
   "language": "python",
   "name": "python3"
  },
  "language_info": {
   "codemirror_mode": {
    "name": "ipython",
    "version": 3
   },
   "file_extension": ".py",
   "mimetype": "text/x-python",
   "name": "python",
   "nbconvert_exporter": "python",
   "pygments_lexer": "ipython3",
   "version": "3.7.3"
  }
 },
 "nbformat": 4,
 "nbformat_minor": 2
}
